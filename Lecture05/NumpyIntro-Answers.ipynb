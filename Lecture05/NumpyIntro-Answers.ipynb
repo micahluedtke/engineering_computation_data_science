{
 "cells": [
  {
   "cell_type": "markdown",
   "metadata": {},
   "source": [
    "## Good review of numpy https://www.youtube.com/watch?v=GB9ByFAIAH4 "
   ]
  },
  {
   "cell_type": "markdown",
   "metadata": {},
   "source": [
    "## Numpy library - Remember to do      pip install numpy\n",
    "### Numpy provides support for math and logical operations on arrays \n",
    "#### https://www.tutorialspoint.com/numpy/index.htm\n",
    "### It supports many more data types than python \n",
    "#### https://www.tutorialspoint.com/numpy/numpy_data_types.htm \n",
    "### Only a single data type is allowed in any particular array"
   ]
  },
  {
   "cell_type": "code",
   "execution_count": 31,
   "metadata": {},
   "outputs": [
    {
     "name": "stdout",
     "output_type": "stream",
     "text": [
      "140321654298944\n",
      "<class 'numpy.ndarray'>\n",
      "b = 140321654357568\n"
     ]
    },
    {
     "data": {
      "text/plain": [
       "array([2, 3, 4, 5])"
      ]
     },
     "execution_count": 31,
     "metadata": {},
     "output_type": "execute_result"
    }
   ],
   "source": [
    "a = np.array([1,2,3,4])\n",
    "print(id(a))\n",
    "print(type(a))\n",
    "b = np.array(a)\n",
    "print(f'b = {id(b)}')\n",
    "a = a + 1\n",
    "a"
   ]
  },
  {
   "cell_type": "markdown",
   "metadata": {},
   "source": [
    "# <img src='numpyArray.png' width ='400'>"
   ]
  },
  {
   "cell_type": "code",
   "execution_count": 9,
   "metadata": {},
   "outputs": [
    {
     "data": {
      "text/plain": [
       "array([0, 5])"
      ]
     },
     "execution_count": 9,
     "metadata": {},
     "output_type": "execute_result"
    }
   ],
   "source": [
    "# arange vs linspace - both generate a numpy array of numbers\n",
    "import numpy as np\n",
    "np.linspace(0,10,5)   # specifies No. of values with 0 and 10 being first and last\n",
    "np.arange(0, 10, 5)   # specifies step size=5 starting at 0 up to but NOT including last"
   ]
  },
  {
   "cell_type": "code",
   "execution_count": 17,
   "metadata": {},
   "outputs": [
    {
     "data": {
      "text/plain": [
       "numpy.ndarray"
      ]
     },
     "execution_count": 17,
     "metadata": {},
     "output_type": "execute_result"
    }
   ],
   "source": [
    "x = np.linspace(0,10,11)  # generate 10 numbers \n",
    "x = x + 1                 # operates on all elements of the array\n",
    "type(x)"
   ]
  },
  {
   "cell_type": "code",
   "execution_count": 18,
   "metadata": {},
   "outputs": [
    {
     "data": {
      "text/plain": [
       "[<matplotlib.lines.Line2D at 0x7f9f2e5926d0>]"
      ]
     },
     "execution_count": 18,
     "metadata": {},
     "output_type": "execute_result"
    },
    {
     "data": {
      "image/png": "[encoded data removed]",
      "text/plain": [
       "<Figure size 432x288 with 1 Axes>"
      ]
     },
     "metadata": {
      "needs_background": "light"
     },
     "output_type": "display_data"
    }
   ],
   "source": [
    "# generate points and use function to transform them\n",
    "import numpy as np\n",
    "import matplotlib.pyplot as plt\n",
    "\n",
    "x = np.arange(0,10,0.1)\n",
    "y = np.sin(x)\n",
    "plt.plot(x,y)"
   ]
  },
  {
   "cell_type": "code",
   "execution_count": 8,
   "metadata": {},
   "outputs": [
    {
     "data": {
      "text/plain": [
       "array([ 0.,  1.,  2.,  3.,  4.,  5.,  6.,  7.,  8.,  9., 10.])"
      ]
     },
     "execution_count": 8,
     "metadata": {},
     "output_type": "execute_result"
    },
    {
     "data": {
      "image/png": "[encoded data removed]",
      "text/plain": [
       "<Figure size 432x288 with 1 Axes>"
      ]
     },
     "metadata": {
      "needs_background": "light"
     },
     "output_type": "display_data"
    }
   ],
   "source": [
    "\n",
    "import numpy as np\n",
    "import matplotlib.pyplot as plt\n",
    "a = np.random.choice(np.linspace(0,10,10),100)\n",
    "plt.hist(a,bins=np.arange(0,11,1))\n",
    "np.linspace(0,10,11)"
   ]
  },
  {
   "cell_type": "code",
   "execution_count": null,
   "metadata": {},
   "outputs": [],
   "source": []
  },
  {
   "cell_type": "code",
   "execution_count": 312,
   "metadata": {},
   "outputs": [
    {
     "data": {
      "text/plain": [
       "(array([0.0957, 0.1061, 0.0938, 0.1013, 0.1011, 0.1021, 0.0995, 0.1005,\n",
       "        0.0963, 0.1036]),\n",
       " array([ 0,  1,  2,  3,  4,  5,  6,  7,  8,  9, 10]),\n",
       " <BarContainer object of 10 artists>)"
      ]
     },
     "execution_count": 312,
     "metadata": {},
     "output_type": "execute_result"
    },
    {
     "data": {
      "image/png": "[encoded data removed]",
      "text/plain": [
       "<Figure size 432x288 with 1 Axes>"
      ]
     },
     "metadata": {},
     "output_type": "display_data"
    }
   ],
   "source": [
    "plt.hist(a,bins=np.arange(0,11,1),density=True)"
   ]
  },
  {
   "cell_type": "code",
   "execution_count": 310,
   "metadata": {},
   "outputs": [
    {
     "data": {
      "text/plain": [
       "(array([0.248, 0.   , 0.178, 0.   , 0.178, 0.   , 0.196, 0.   , 0.202,\n",
       "        0.   , 0.216, 0.   , 0.224, 0.   , 0.198, 0.   , 0.178, 0.   ,\n",
       "        0.182, 0.   , 0.   ]),\n",
       " array([ 0. ,  0.5,  1. ,  1.5,  2. ,  2.5,  3. ,  3.5,  4. ,  4.5,  5. ,\n",
       "         5.5,  6. ,  6.5,  7. ,  7.5,  8. ,  8.5,  9. ,  9.5, 10. , 10.5]),\n",
       " <BarContainer object of 21 artists>)"
      ]
     },
     "execution_count": 310,
     "metadata": {},
     "output_type": "execute_result"
    },
    {
     "data": {
      "image/png": "[encoded data removed]",
      "text/plain": [
       "<Figure size 432x288 with 1 Axes>"
      ]
     },
     "metadata": {},
     "output_type": "display_data"
    }
   ],
   "source": [
    "#  Use Bins 1/2 wide - What does plot meean? \n",
    "plt.hist(a,bins=np.arange(0,11,0.5),density=True)"
   ]
  },
  {
   "cell_type": "code",
   "execution_count": null,
   "metadata": {},
   "outputs": [],
   "source": []
  },
  {
   "cell_type": "code",
   "execution_count": null,
   "metadata": {},
   "outputs": [],
   "source": [
    "# Data as sampling from an unseen population\n",
    "# Choose at random from 1 through 10 \n",
    "import numpy as np\n",
    "import matplotlib.pyplot as plt\n",
    "a = np.random.choice(np.arange(0,10),100)\n",
    "a = np.random.random(100)*10.0\n",
    "a\n",
    "\n"
   ]
  },
  {
   "cell_type": "markdown",
   "metadata": {},
   "source": [
    "# Normal Distribution \n",
    "\n",
    "$\n",
    "\\text{the normal distribution is given by} \\\\\n",
    "$\n",
    "$$\n",
    "f(z)=\\frac{1}{\\sqrt{2 \\pi}}e^{-\\frac{(z)^2}{2}}  \n",
    "$$\n",
    "$\n",
    "\\text{This can be rewritten in term of the mean and variance} \\\\\n",
    "$\n",
    "$$\n",
    "f(x)=\\frac{1}{\\sigma \\sqrt{2 \\pi}}e^{-\\frac{(x- \\mu)^2}{2 \\sigma^2}}\n",
    "$$\n",
    "The random variable $X$ described by the PDF is a normal variable that follows a normal distribution with mean $\\mu$ and variance $\\sigma^2$.\n",
    "\n",
    "$\n",
    "\\text{Normal distribution notation is} \\\\\n",
    "$\n",
    "$$\n",
    "X \\sim N(\\mu,\\sigma^2) \\\\\n",
    "$$\n",
    "\n",
    "The total area under the PDF curve equals 1."
   ]
  },
  {
   "cell_type": "code",
   "execution_count": 23,
   "metadata": {},
   "outputs": [
    {
     "data": {
      "text/plain": [
       "[<matplotlib.lines.Line2D at 0x7fe365ca7280>]"
      ]
     },
     "execution_count": 23,
     "metadata": {},
     "output_type": "execute_result"
    },
    {
     "data": {
      "image/png": "[encoded data removed]",
      "text/plain": [
       "<Figure size 432x288 with 1 Axes>"
      ]
     },
     "metadata": {
      "needs_background": "light"
     },
     "output_type": "display_data"
    }
   ],
   "source": [
    "# Normal Data \n",
    "\n",
    "a = np.random.normal(10,2,10)\n",
    "\n",
    "\n",
    "plt.hist(a,bins=np.arange(5,16,1),density=True)\n",
    "plt.scatter(np.arange(5,15,1),a)\n",
    "plt.plot(a)"
   ]
  },
  {
   "cell_type": "code",
   "execution_count": null,
   "metadata": {},
   "outputs": [],
   "source": [
    "plt.hist(a,bins=np.arange(5,16,0.1), density=True)"
   ]
  },
  {
   "cell_type": "code",
   "execution_count": null,
   "metadata": {},
   "outputs": [],
   "source": [
    "plt.hist(a,bins=np.arange(5,16,1))"
   ]
  },
  {
   "cell_type": "code",
   "execution_count": 29,
   "metadata": {},
   "outputs": [
    {
     "data": {
      "text/plain": [
       "(array([ 1., 12., 18., 32., 45., 32., 28., 20.,  8.]),\n",
       " array([-5, -4, -3, -2, -1,  0,  1,  2,  3,  4]),\n",
       " <BarContainer object of 9 artists>)"
      ]
     },
     "execution_count": 29,
     "metadata": {},
     "output_type": "execute_result"
    },
    {
     "data": {
      "image/png": "[encoded data removed]",
      "text/plain": [
       "<Figure size 432x288 with 1 Axes>"
      ]
     },
     "metadata": {
      "needs_background": "light"
     },
     "output_type": "display_data"
    }
   ],
   "source": [
    "import numpy as np\n",
    "import matplotlib.pyplot as plt\n",
    "a = np.random.normal(0,2,200)\n",
    "plt.hist(a, bins=np.arange(-5,5,1))\n",
    "\n"
   ]
  },
  {
   "cell_type": "markdown",
   "metadata": {},
   "source": [
    "## Mean and Variance\n",
    "\n",
    "$$\n",
    "\\mu = \\frac{\\sum(x)}{N}\n",
    "$$\n",
    "$$\n",
    "\\sigma^{2} =\\sum{\\frac{(x - \\mu)^{2}}{N} }\n",
    "$$\n"
   ]
  },
  {
   "cell_type": "code",
   "execution_count": 53,
   "metadata": {},
   "outputs": [
    {
     "name": "stdout",
     "output_type": "stream",
     "text": [
      "mean= 0.000683255410669019\n",
      "Variance = 102.89071952384164\n",
      "realVar = \n"
     ]
    }
   ],
   "source": [
    "# IN CLASS - Generate a Population and calculate its mean and variance\n",
    "import matplotlib.pyplot as plt\n",
    "Npoints = 10\n",
    "p = np.random.normal(0,10,Npoints*100)\n",
    "\n",
    "def myMean(sample):\n",
    "    N = len(sample)\n",
    "    total = 0\n",
    "    for x in sample:\n",
    "        total = total + x\n",
    "    return x/N\n",
    "pmean = myMean(p)\n",
    "print(f'mean= {pmean}')\n",
    "\n",
    "def myVar(sample,mean):\n",
    "    tsample = sample - mean\n",
    "    var = sum(tsample * tsample)/len(sample)\n",
    "    return var\n",
    "    \n",
    "pvar = myVar(p, pmean)\n",
    "print(f'Variance = {pvar}')\n",
    "print(f'realVar = ')"
   ]
  },
  {
   "cell_type": "code",
   "execution_count": 33,
   "metadata": {},
   "outputs": [
    {
     "data": {
      "image/png": "[encoded data removed]",
      "text/plain": [
       "<Figure size 432x288 with 1 Axes>"
      ]
     },
     "metadata": {},
     "output_type": "display_data"
    }
   ],
   "source": [
    "import numpy as np\n",
    "import scipy as scipy\n",
    "import matplotlib.pyplot as plt\n",
    "from scipy.stats import norm\n",
    "\n",
    "plt.style.use('ggplot')\n",
    "fig, ax = plt.subplots()\n",
    "x= np.arange(34,40,0.01)\n",
    "y = np.random.normal(x)\n",
    "lines = ax.plot(x, norm.pdf(x,loc=37,scale=1))\n",
    "ax.set_ylim(0,0.45) # range\n",
    "\n",
    "ax.set_xlabel('x',fontsize=20) # set x label\n",
    "ax.set_ylabel('pdf(x)',fontsize=20,rotation=90) # set y label\n",
    "ax.xaxis.set_label_coords(0.55, -0.05) # x label coordinate\n",
    "ax.yaxis.set_label_coords(-0.1, 0.5) # y label coordinate\n",
    "px=np.arange(36,37,0.1)\n",
    "plt.fill_between(px,norm.pdf(px,loc=37,scale=1),color='r',alpha=0.5)\n",
    "plt.show()\n",
    "\n",
    "\n",
    "\n",
    "\n",
    "\n"
   ]
  },
  {
   "cell_type": "code",
   "execution_count": null,
   "metadata": {},
   "outputs": [],
   "source": [
    "a = np.random.normal(10,1,20)\n",
    "a"
   ]
  },
  {
   "cell_type": "markdown",
   "metadata": {},
   "source": [
    "## Calculate the mean and subtract the mean from each data value\n",
    "$$ "
   ]
  },
  {
   "cell_type": "code",
   "execution_count": 32,
   "metadata": {},
   "outputs": [
    {
     "data": {
      "image/png": "[encoded data removed]",
      "text/plain": [
       "<Figure size 432x288 with 1 Axes>"
      ]
     },
     "metadata": {
      "needs_background": "light"
     },
     "output_type": "display_data"
    }
   ],
   "source": [
    "from matplotlib import collections as matcoll\n",
    "Npoints = 20\n",
    "x = np.arange(0,Npoints)\n",
    "y = np.random.normal(loc=10, scale=2, size=Npoints )\n",
    "lines = []\n",
    "for i in range(Npoints):\n",
    "    pair=[(x[i],0), (x[i], y[i])]\n",
    "    lines.append(pair)\n",
    "linecoll = matcoll.LineCollection(lines)\n",
    "fig, ax = plt.subplots()\n",
    "ax.add_collection(linecoll)\n",
    "\n",
    "plt.scatter(x,y, marker='o', color='blue')\n",
    "plt.xticks(x)\n",
    "plt.ylim(0,40)\n",
    "plt.show()\n",
    "ylim=(0,10)\n"
   ]
  },
  {
   "cell_type": "markdown",
   "metadata": {},
   "source": [
    "### Numpy 2D Arrays\n"
   ]
  },
  {
   "cell_type": "code",
   "execution_count": null,
   "metadata": {},
   "outputs": [],
   "source": [
    "## Multi-Dimensional Arrays\n",
    "<img src='multiArray.png' width = 500>"
   ]
  },
  {
   "cell_type": "code",
   "execution_count": null,
   "metadata": {},
   "outputs": [],
   "source": [
    "import numpy as np"
   ]
  },
  {
   "cell_type": "code",
   "execution_count": 53,
   "metadata": {},
   "outputs": [
    {
     "data": {
      "text/plain": [
       "[0, 1, 2]"
      ]
     },
     "execution_count": 53,
     "metadata": {},
     "output_type": "execute_result"
    }
   ],
   "source": [
    "# Numpy 2_D Arrays\n",
    "a = [0,1,2]\n",
    "b = [3,4,5]\n",
    "c = [6,7,8]\n",
    "z = [a, \n",
    "     b, \n",
    "     c]\n"
   ]
  },
  {
   "cell_type": "code",
   "execution_count": 56,
   "metadata": {},
   "outputs": [
    {
     "data": {
      "text/plain": [
       "array([[0, 1, 2],\n",
       "       [3, 4, 5],\n",
       "       [6, 7, 8]])"
      ]
     },
     "execution_count": 56,
     "metadata": {},
     "output_type": "execute_result"
    }
   ],
   "source": [
    "a = np.arange(0,9)\n",
    "z = a.reshape(3,3)\n",
    "z\n"
   ]
  },
  {
   "cell_type": "code",
   "execution_count": 61,
   "metadata": {},
   "outputs": [
    {
     "data": {
      "text/plain": [
       "8"
      ]
     },
     "execution_count": 61,
     "metadata": {},
     "output_type": "execute_result"
    }
   ],
   "source": [
    "z[2,2]"
   ]
  },
  {
   "cell_type": "code",
   "execution_count": 64,
   "metadata": {},
   "outputs": [
    {
     "data": {
      "text/plain": [
       "array([[0, 2],\n",
       "       [6, 8]])"
      ]
     },
     "execution_count": 64,
     "metadata": {},
     "output_type": "execute_result"
    }
   ],
   "source": [
    "z[0:3:2,0:3:2]"
   ]
  },
  {
   "cell_type": "code",
   "execution_count": null,
   "metadata": {},
   "outputs": [],
   "source": []
  },
  {
   "cell_type": "code",
   "execution_count": null,
   "metadata": {},
   "outputs": [],
   "source": [
    "## Exercise - Produce a 10x10 checkerboard of 1s and 0s"
   ]
  },
  {
   "cell_type": "code",
   "execution_count": 34,
   "metadata": {},
   "outputs": [
    {
     "name": "stdout",
     "output_type": "stream",
     "text": [
      "[[0 1 0 1 0 1 0 1]\n",
      " [1 0 1 0 1 0 1 0]\n",
      " [0 1 0 1 0 1 0 1]\n",
      " [1 0 1 0 1 0 1 0]\n",
      " [0 1 0 1 0 1 0 1]\n",
      " [1 0 1 0 1 0 1 0]\n",
      " [0 1 0 1 0 1 0 1]\n",
      " [1 0 1 0 1 0 1 0]]\n"
     ]
    },
    {
     "data": {
      "text/plain": [
       "<AxesSubplot:>"
      ]
     },
     "execution_count": 34,
     "metadata": {},
     "output_type": "execute_result"
    },
    {
     "data": {
      "image/png": "[encoded data removed]",
      "text/plain": [
       "<Figure size 432x288 with 1 Axes>"
      ]
     },
     "metadata": {},
     "output_type": "display_data"
    }
   ],
   "source": [
    "\n",
    "import numpy as np\n",
    "import seaborn as sns\n",
    "from matplotlib.colors import ListedColormap as lc\n",
    "Z = np.zeros((8,8),dtype=int)\n",
    "Z[1::2,::2] = 1\n",
    "Z[::2,1::2] = 1\n",
    "print(Z)\n",
    "sns.heatmap(Z, annot=True,linewidths=5,cbar=False)\n",
    "import seaborn as sns\n",
    "sns.heatmap(Z, annot=True,linewidths=5,cbar=False)\n",
    "\n",
    "\n"
   ]
  },
  {
   "cell_type": "code",
   "execution_count": 14,
   "metadata": {},
   "outputs": [
    {
     "data": {
      "text/plain": [
       "[<matplotlib.lines.Line2D at 0x7fe365ddbb20>]"
      ]
     },
     "execution_count": 14,
     "metadata": {},
     "output_type": "execute_result"
    },
    {
     "data": {
      "image/png": "[encoded data removed]",
      "text/plain": [
       "<Figure size 432x288 with 1 Axes>"
      ]
     },
     "metadata": {
      "needs_background": "light"
     },
     "output_type": "display_data"
    }
   ],
   "source": [
    "# IN CLASS  - use the above formula to plot the normal distribution over x = -4 to 4\n",
    "# takee mean = 0, and sigma = 1\n",
    "import numpy as np\n",
    "import matplotlib.pyplot as plt\n",
    "x = np.linspace(-4,4,100)\n",
    "y = (np.exp(-(x*x)/2))/np.sqrt(2*np.pi)\n",
    "plt.plot(x,y)"
   ]
  },
  {
   "cell_type": "code",
   "execution_count": 17,
   "metadata": {},
   "outputs": [
    {
     "data": {
      "text/plain": [
       "(0.7071067811854606, 1.845097819410497e-14)"
      ]
     },
     "execution_count": 17,
     "metadata": {},
     "output_type": "execute_result"
    }
   ],
   "source": [
    "import scipy.integrate as integrate\n",
    "result = integrate.quad(lambda x: (np.exp(-(x*x)))/np.sqrt(2*np.pi) , -5, 5)\n",
    "result"
   ]
  },
  {
   "cell_type": "code",
   "execution_count": null,
   "metadata": {},
   "outputs": [],
   "source": []
  }
 ],
 "metadata": {
  "kernelspec": {
   "display_name": "Python 3",
   "language": "python",
   "name": "python3"
  },
  "language_info": {
   "codemirror_mode": {
    "name": "ipython",
    "version": 3
   },
   "file_extension": ".py",
   "mimetype": "text/x-python",
   "name": "python",
   "nbconvert_exporter": "python",
   "pygments_lexer": "ipython3",
   "version": "3.9.0"
  }
 },
 "nbformat": 4,
 "nbformat_minor": 4
}

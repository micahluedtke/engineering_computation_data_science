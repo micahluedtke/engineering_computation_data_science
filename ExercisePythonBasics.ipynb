{
 "cells": [
  {
   "cell_type": "markdown",
   "metadata": {},
   "source": [
    "## Exercise on Basics of Python\n",
    "### There are a couple of new things that you will need to look up\n",
    "### Most things we have already covered"
   ]
  },
  {
   "cell_type": "code",
   "execution_count": null,
   "metadata": {},
   "outputs": [],
   "source": [
    "# in Python variables cannot begin with a number\n",
    "# True or False"
   ]
  },
  {
   "cell_type": "code",
   "execution_count": null,
   "metadata": {},
   "outputs": [],
   "source": [
    "# in Python variables cannot begin with an underscore\n",
    "# True or False"
   ]
  },
  {
   "cell_type": "code",
   "execution_count": null,
   "metadata": {},
   "outputs": [],
   "source": [
    "# in Python Dictionaries are immutable \n",
    "# True or False \n",
    "\n",
    "\n",
    "\n",
    "\n",
    "\n"
   ]
  },
  {
   "cell_type": "code",
   "execution_count": 32,
   "metadata": {},
   "outputs": [
    {
     "name": "stdout",
     "output_type": "stream",
     "text": [
      "Hello o World\n"
     ]
    }
   ],
   "source": [
    "# use 2 slicing operators to print out \"Hello o World\"\n",
    "\n",
    "str1 = \"Hello World\"\n",
    "print(str1[??], str1[??]\n",
    "\n",
    "# Answer\n",
    "print(str1[:5], str1[4:]) "
   ]
  },
  {
   "cell_type": "code",
   "execution_count": 59,
   "metadata": {},
   "outputs": [
    {
     "name": "stdout",
     "output_type": "stream",
     "text": [
      "True\n",
      "A\n"
     ]
    },
    {
     "data": {
      "text/plain": [
       "str"
      ]
     },
     "execution_count": 59,
     "metadata": {},
     "output_type": "execute_result"
    }
   ],
   "source": [
    "# What does the following print - Look up on Google what ASCII is and what \"ord\" does \n",
    "print( ord('A') == 65)\n",
    "print(chr(65))"
   ]
  },
  {
   "cell_type": "code",
   "execution_count": 7,
   "metadata": {
    "ExecuteTime": {
     "end_time": "2021-02-22T15:13:41.630844Z",
     "start_time": "2021-02-22T15:13:41.591384Z"
    }
   },
   "outputs": [
    {
     "name": "stdout",
     "output_type": "stream",
     "text": [
      "My name's captain kirk\n",
      "My Name'S Captain Kirk\n"
     ]
    }
   ],
   "source": [
    "# what do the following print out - look them up on Google\n",
    "string_1 = \"my name's captain cirk\";\n",
    "print (str.capitalize())\n",
    "print(str.title())"
   ]
  },
  {
   "cell_type": "code",
   "execution_count": 8,
   "metadata": {
    "ExecuteTime": {
     "end_time": "2021-02-22T15:13:53.065421Z",
     "start_time": "2021-02-22T15:13:53.034236Z"
    }
   },
   "outputs": [
    {
     "data": {
      "text/plain": [
       "18"
      ]
     },
     "execution_count": 8,
     "metadata": {},
     "output_type": "execute_result"
    }
   ],
   "source": [
    "string_1.rindex()"
   ]
  },
  {
   "cell_type": "code",
   "execution_count": 9,
   "metadata": {
    "ExecuteTime": {
     "end_time": "2021-02-22T15:24:38.461813Z",
     "start_time": "2021-02-22T15:24:38.383635Z"
    }
   },
   "outputs": [],
   "source": [
    "string_2 = string_1"
   ]
  },
  {
   "cell_type": "code",
   "execution_count": 13,
   "metadata": {
    "ExecuteTime": {
     "end_time": "2021-02-22T15:25:15.222563Z",
     "start_time": "2021-02-22T15:25:15.183728Z"
    }
   },
   "outputs": [
    {
     "data": {
      "text/plain": [
       "\"My naMe's captain cirk\""
      ]
     },
     "execution_count": 13,
     "metadata": {},
     "output_type": "execute_result"
    }
   ],
   "source": [
    "string_2.replace('m', 'M')"
   ]
  },
  {
   "cell_type": "code",
   "execution_count": 15,
   "metadata": {
    "ExecuteTime": {
     "end_time": "2021-02-22T15:27:56.215560Z",
     "start_time": "2021-02-22T15:27:56.190359Z"
    }
   },
   "outputs": [
    {
     "name": "stdout",
     "output_type": "stream",
     "text": [
      "False\n"
     ]
    }
   ],
   "source": [
    "a = 5\n",
    "print(a > 5)"
   ]
  },
  {
   "cell_type": "code",
   "execution_count": 14,
   "metadata": {
    "ExecuteTime": {
     "end_time": "2021-02-22T15:26:55.282668Z",
     "start_time": "2021-02-22T15:26:55.232615Z"
    }
   },
   "outputs": [
    {
     "name": "stdout",
     "output_type": "stream",
     "text": [
      "1\n"
     ]
    }
   ],
   "source": [
    "# What will the value of x be - work it out by hand first\n",
    "x = 0\n",
    "a = 0\n",
    "b = -5\n",
    "if a > 0:\n",
    "    if b < 0: \n",
    "        x = x + 3 \n",
    "elif a <= 0:\n",
    "        x = x + 1\n",
    "else:\n",
    "    x = x + 2\n",
    "print(x)"
   ]
  },
  {
   "cell_type": "code",
   "execution_count": 18,
   "metadata": {
    "ExecuteTime": {
     "end_time": "2021-02-22T15:35:09.294275Z",
     "start_time": "2021-02-22T15:35:09.252501Z"
    }
   },
   "outputs": [
    {
     "name": "stdout",
     "output_type": "stream",
     "text": [
      "0 10 0 Chair\n",
      "0 10 1 Table\n",
      "1 20 0 Chair\n",
      "1 20 1 Table\n"
     ]
    }
   ],
   "source": [
    "# work out by hand what will be printed out\n",
    "numbers = [10, 20]\n",
    "items = [\"Chair\", \"Table\"]\n",
    "\n",
    "for i, x in enumerate(numbers):\n",
    "    for j, y in enumerate(items):\n",
    "        print(i, x, j, y)"
   ]
  },
  {
   "cell_type": "code",
   "execution_count": null,
   "metadata": {},
   "outputs": [],
   "source": [
    "range()"
   ]
  },
  {
   "cell_type": "code",
   "execution_count": 17,
   "metadata": {
    "ExecuteTime": {
     "end_time": "2021-02-22T15:32:33.333895Z",
     "start_time": "2021-02-22T15:32:33.200151Z"
    }
   },
   "outputs": [
    {
     "data": {
      "text/plain": [
       "10"
      ]
     },
     "execution_count": 17,
     "metadata": {},
     "output_type": "execute_result"
    }
   ],
   "source": [
    "numbers[0]"
   ]
  },
  {
   "cell_type": "code",
   "execution_count": 2,
   "metadata": {
    "ExecuteTime": {
     "end_time": "2021-02-22T15:05:49.015595Z",
     "start_time": "2021-02-22T15:05:48.939680Z"
    }
   },
   "outputs": [
    {
     "name": "stdout",
     "output_type": "stream",
     "text": [
      "11\n",
      "13\n"
     ]
    }
   ],
   "source": [
    "# work out by hand what will be printed out\n",
    "for num in range(10, 14):\n",
    "    for i in range(2, num):\n",
    "        if num % i == 1:      # % is mod  so 3%2 = 1\n",
    "            print(num)\n",
    "        break"
   ]
  },
  {
   "cell_type": "code",
   "execution_count": 8,
   "metadata": {},
   "outputs": [
    {
     "data": {
      "text/plain": [
       "[10, 12, 14, 16, 18]"
      ]
     },
     "execution_count": 8,
     "metadata": {},
     "output_type": "execute_result"
    }
   ],
   "source": [
    "# Using the range object complete the following list so that a = [10,12,14,16,18]\n",
    "a = []\n",
    "for i in range(???):\n",
    "    a.append(i)\n",
    "a"
   ]
  },
  {
   "cell_type": "code",
   "execution_count": 70,
   "metadata": {},
   "outputs": [
    {
     "name": "stdout",
     "output_type": "stream",
     "text": [
      "<class 'list'>\n",
      "<class 'dict'>\n",
      "<class 'tuple'>\n",
      "<class 'set'>\n"
     ]
    }
   ],
   "source": [
    "# What do the following print out \n",
    "print(type([]))\n",
    "print(type({}))\n",
    "print(type(()))\n",
    "print(type({a}))\n"
   ]
  },
  {
   "cell_type": "code",
   "execution_count": null,
   "metadata": {},
   "outputs": [],
   "source": [
    "# Make a list of all odd numbers between 30 and 60\n",
    "a = []"
   ]
  },
  {
   "cell_type": "code",
   "execution_count": 2,
   "metadata": {},
   "outputs": [
    {
     "name": "stdout",
     "output_type": "stream",
     "text": [
      "key= A, value= Apple\n",
      "key= B, value= Banana\n",
      "key= C, value= Cantalope\n"
     ]
    }
   ],
   "source": [
    "# Use a for loop to print out each item in this Dictionary\n",
    "d = {\"A\":\"Apple\",\"B\":\"Banana\",\"C\":\"Cantalope\"}\n",
    "\n",
    "# use \"for k,v in ??\"\" to print out both the key and the value of each item\n",
    "for k,v in d.items():\n",
    "    print(f\"key= {k}, value= {v}\")\n"
   ]
  },
  {
   "cell_type": "code",
   "execution_count": null,
   "metadata": {},
   "outputs": [],
   "source": [
    "# Change Fred's marks so he gets 93\n",
    "student = { \n",
    "  \"name\": \"Fred\", \n",
    "  \"class\": 2, \n",
    "  \"marks\": 85 \n",
    "}"
   ]
  },
  {
   "cell_type": "code",
   "execution_count": 9,
   "metadata": {},
   "outputs": [
    {
     "name": "stdout",
     "output_type": "stream",
     "text": [
      "True\n"
     ]
    }
   ],
   "source": [
    "# What will the following print out\n",
    "dict1 = {\"key1\":1, \"key2\":2}\n",
    "dict2 = {\"key2\":2, \"key1\":1}\n",
    "print(dict1 == dict2)"
   ]
  },
  {
   "cell_type": "code",
   "execution_count": 21,
   "metadata": {},
   "outputs": [
    {
     "name": "stdout",
     "output_type": "stream",
     "text": [
      "Math: 88, English: 70\n"
     ]
    }
   ],
   "source": [
    "# Print out Fred's scores for math and english\n",
    "myDict = { \n",
    "   \"class\":{ \n",
    "      \"student\":{ \n",
    "         \"name\":\"Fred\",\n",
    "         \"marks\":{ \n",
    "            \"math\":88,\n",
    "            \"english\":70\n",
    "         }\n",
    "      }\n",
    "   }\n",
    "}\n",
    "# Answer\n",
    "print(f\"Math: {myDict['class']['student']['marks']['math']}, English: {myDict['class']['student']['marks']['english']}\")"
   ]
  },
  {
   "cell_type": "code",
   "execution_count": 24,
   "metadata": {},
   "outputs": [
    {
     "name": "stdout",
     "output_type": "stream",
     "text": [
      "Anne's age is 22\n"
     ]
    }
   ],
   "source": [
    "# Print out Anne's age\n",
    "student = {1: {'name': 'Fred', 'age': '27', 'marks': 77},\n",
    "           2: {'name': 'Anne', 'age': '22', 'marks': 88}}\n",
    "# Answer \n",
    "print(f\"Anne's age is {student[2]['age']}\")"
   ]
  },
  {
   "cell_type": "code",
   "execution_count": 58,
   "metadata": {},
   "outputs": [
    {
     "name": "stdout",
     "output_type": "stream",
     "text": [
      "{2: {'name': 'Anne', 'age': '22', 'marks': 88}}\n",
      "{}\n"
     ]
    }
   ],
   "source": [
    "# What do you think clear() does to a dictionary\n",
    "student = {1: {'name': 'Fred', 'age': '27', 'marks': 77},\n",
    "           2: {'name': 'Anne', 'age': '22', 'marks': 88}}\n",
    "del student[1]  # delete an item from a dictionary\n",
    "print(student)\n",
    "student.clear() # clear the dictionary\n",
    "print(student)"
   ]
  },
  {
   "cell_type": "code",
   "execution_count": 22,
   "metadata": {
    "ExecuteTime": {
     "end_time": "2021-02-22T15:51:20.076697Z",
     "start_time": "2021-02-22T15:51:20.066234Z"
    }
   },
   "outputs": [],
   "source": [
    "# use dictionary to count words in a string {\"word1\" : n, ...}\n",
    "str = 'Lorem ipsum dolor sit amet, consectetur adipiscing elit, sed do eiusmod tempor incididunt ut labore et dolore magna aliqua. Ut enim ad minim veniam, quis nostrud exercitation ullamco laboris nisi ut aliquip ex ea commodo consequat. Duis aute irure dolor in reprehenderit in voluptate velit esse cillum dolore eu fugiat nulla pariatur. Excepteur sint occaecat cupidatat non proident, sunt in culpa qui officia deserunt mollit anim id est laborum.'\n",
    "words = str.split(\" \")\n",
    "keys = set(words)\n",
    "\n"
   ]
  },
  {
   "cell_type": "code",
   "execution_count": null,
   "metadata": {},
   "outputs": [],
   "source": []
  },
  {
   "cell_type": "code",
   "execution_count": 23,
   "metadata": {
    "ExecuteTime": {
     "end_time": "2021-02-22T15:52:54.684403Z",
     "start_time": "2021-02-22T15:52:54.639581Z"
    }
   },
   "outputs": [
    {
     "name": "stdout",
     "output_type": "stream",
     "text": [
      "{'Lorem': 1, 'ipsum': 1, 'dolor': 2, 'sit': 1, 'amet,': 1, 'consectetur': 1, 'adipiscing': 1, 'elit,': 1, 'sed': 1, 'do': 1, 'eiusmod': 1, 'tempor': 1, 'incididunt': 1, 'ut': 2, 'labore': 1, 'et': 1, 'dolore': 2, 'magna': 1, 'aliqua.': 1, 'Ut': 1, 'enim': 1, 'ad': 1, 'minim': 1, 'veniam,': 1, 'quis': 1, 'nostrud': 1, 'exercitation': 1, 'ullamco': 1, 'laboris': 1, 'nisi': 1, 'aliquip': 1, 'ex': 1, 'ea': 1, 'commodo': 1, 'consequat.': 1, 'Duis': 1, 'aute': 1, 'irure': 1, 'in': 3, 'reprehenderit': 1, 'voluptate': 1, 'velit': 1, 'esse': 1, 'cillum': 1, 'eu': 1, 'fugiat': 1, 'nulla': 1, 'pariatur.': 1, 'Excepteur': 1, 'sint': 1, 'occaecat': 1, 'cupidatat': 1, 'non': 1, 'proident,': 1, 'sunt': 1, 'culpa': 1, 'qui': 1, 'officia': 1, 'deserunt': 1, 'mollit': 1, 'anim': 1, 'id': 1, 'est': 1, 'laborum.': 1}\n"
     ]
    }
   ],
   "source": [
    "def word_count(str):\n",
    "    counts = dict()\n",
    "    words = str.split()\n",
    "\n",
    "    for word in words:\n",
    "        if word in counts:\n",
    "            counts[word] += 1\n",
    "        else:\n",
    "            counts[word] = 1\n",
    "\n",
    "    return counts\n",
    "\n",
    "print( word_count(str))"
   ]
  },
  {
   "cell_type": "code",
   "execution_count": null,
   "metadata": {
    "ExecuteTime": {
     "end_time": "2021-02-22T15:56:52.070501Z",
     "start_time": "2021-02-22T15:56:52.003984Z"
    },
    "scrolled": true
   },
   "outputs": [],
   "source": []
  },
  {
   "cell_type": "code",
   "execution_count": null,
   "metadata": {},
   "outputs": [],
   "source": []
  }
 ],
 "metadata": {
  "kernelspec": {
   "display_name": "Python 3",
   "language": "python",
   "name": "python3"
  },
  "language_info": {
   "codemirror_mode": {
    "name": "ipython",
    "version": 3
   },
   "file_extension": ".py",
   "mimetype": "text/x-python",
   "name": "python",
   "nbconvert_exporter": "python",
   "pygments_lexer": "ipython3",
   "version": "3.7.4"
  },
  "toc": {
   "base_numbering": 1,
   "nav_menu": {},
   "number_sections": true,
   "sideBar": true,
   "skip_h1_title": false,
   "title_cell": "Table of Contents",
   "title_sidebar": "Contents",
   "toc_cell": false,
   "toc_position": {},
   "toc_section_display": true,
   "toc_window_display": false
  }
 },
 "nbformat": 4,
 "nbformat_minor": 4
}

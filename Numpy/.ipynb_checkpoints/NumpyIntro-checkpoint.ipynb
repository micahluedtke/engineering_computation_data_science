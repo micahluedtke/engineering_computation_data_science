{
 "cells": [
  {
   "cell_type": "markdown",
   "metadata": {},
   "source": [
    "## Good review of numpy https://www.youtube.com/watch?v=GB9ByFAIAH4 "
   ]
  },
  {
   "cell_type": "markdown",
   "metadata": {},
   "source": [
    "## Numpy library - Remember to do      pip install numpy\n",
    "### Numpy provides support for math and logical operations on arrays \n",
    "#### https://www.tutorialspoint.com/numpy/index.htm\n",
    "### It supports many more data types than python \n",
    "#### https://www.tutorialspoint.com/numpy/numpy_data_types.htm \n",
    "### Only a single data type is allowed in any particular array"
   ]
  },
  {
   "cell_type": "code",
   "execution_count": 1,
   "metadata": {
    "ExecuteTime": {
     "end_time": "2021-03-01T14:44:04.581626Z",
     "start_time": "2021-03-01T14:44:02.482906Z"
    }
   },
   "outputs": [],
   "source": [
    "import numpy as np"
   ]
  },
  {
   "cell_type": "code",
   "execution_count": 2,
   "metadata": {
    "ExecuteTime": {
     "end_time": "2021-03-01T14:45:07.286807Z",
     "start_time": "2021-03-01T14:45:06.665124Z"
    }
   },
   "outputs": [
    {
     "ename": "ValueError",
     "evalue": "only 2 non-keyword arguments accepted",
     "output_type": "error",
     "traceback": [
      "\u001b[0;31m---------------------------------------------------------------------------\u001b[0m",
      "\u001b[0;31mValueError\u001b[0m                                Traceback (most recent call last)",
      "\u001b[0;32m<ipython-input-2-c35df19b8ce6>\u001b[0m in \u001b[0;36m<module>\u001b[0;34m\u001b[0m\n\u001b[0;32m----> 1\u001b[0;31m \u001b[0mnp\u001b[0m\u001b[0;34m.\u001b[0m\u001b[0marray\u001b[0m\u001b[0;34m(\u001b[0m\u001b[0;36m1\u001b[0m\u001b[0;34m,\u001b[0m\u001b[0;36m2\u001b[0m\u001b[0;34m,\u001b[0m\u001b[0;36m3\u001b[0m\u001b[0;34m,\u001b[0m\u001b[0;36m4\u001b[0m\u001b[0;34m)\u001b[0m\u001b[0;34m\u001b[0m\u001b[0;34m\u001b[0m\u001b[0m\n\u001b[0m",
      "\u001b[0;31mValueError\u001b[0m: only 2 non-keyword arguments accepted"
     ]
    }
   ],
   "source": [
    "np.array(1,2,3,4)"
   ]
  },
  {
   "cell_type": "code",
   "execution_count": 31,
   "metadata": {},
   "outputs": [
    {
     "name": "stdout",
     "output_type": "stream",
     "text": [
      "140321654298944\n",
      "<class 'numpy.ndarray'>\n",
      "b = 140321654357568\n"
     ]
    },
    {
     "data": {
      "text/plain": [
       "array([2, 3, 4, 5])"
      ]
     },
     "execution_count": 31,
     "metadata": {},
     "output_type": "execute_result"
    }
   ],
   "source": [
    "a = np.array()[1,2,3,4])\n",
    "print(id(a))\n",
    "print(type(a))\n",
    "b = np.array(a)\n",
    "print(f'b = {id(b)}')\n",
    "a = a + 1\n",
    "a"
   ]
  },
  {
   "cell_type": "code",
   "execution_count": null,
   "metadata": {},
   "outputs": [],
   "source": [
    "# Remember slicing of an array \n",
    "\n",
    "\n"
   ]
  },
  {
   "cell_type": "markdown",
   "metadata": {},
   "source": [
    "# <img src='numpyArray.png' width ='400'>"
   ]
  },
  {
   "cell_type": "code",
   "execution_count": 9,
   "metadata": {},
   "outputs": [
    {
     "data": {
      "text/plain": [
       "array([0, 5])"
      ]
     },
     "execution_count": 9,
     "metadata": {},
     "output_type": "execute_result"
    }
   ],
   "source": [
    "# arange vs linspace - both generate a numpy array of numbers\n",
    "import numpy as np\n",
    "np.linspace(0,10,5)   # specifies No. of values with 0 and 10 being first and last\n",
    "np.arange(0, 10, 5)   # specifies step size=5 starting at 0 up to but NOT including last"
   ]
  },
  {
   "cell_type": "code",
   "execution_count": 17,
   "metadata": {},
   "outputs": [
    {
     "data": {
      "text/plain": [
       "numpy.ndarray"
      ]
     },
     "execution_count": 17,
     "metadata": {},
     "output_type": "execute_result"
    }
   ],
   "source": [
    "x = np.linspace(0,10,11)  # generate 10 numbers \n",
    "x = x + 1                 # operates on all elements of the array\n",
    "type(x)"
   ]
  },
  {
   "cell_type": "code",
   "execution_count": 18,
   "metadata": {},
   "outputs": [
    {
     "data": {
      "text/plain": [
       "[<matplotlib.lines.Line2D at 0x7f9f2e5926d0>]"
      ]
     },
     "execution_count": 18,
     "metadata": {},
     "output_type": "execute_result"
    },
    {
     "data": {
      "image/png": "[encoded data removed]",
      "text/plain": [
       "<Figure size 432x288 with 1 Axes>"
      ]
     },
     "metadata": {
      "needs_background": "light"
     },
     "output_type": "display_data"
    }
   ],
   "source": [
    "# generate points and use function to transform them\n",
    "import numpy as np\n",
    "import matplotlib.pyplot as plt\n",
    "\n",
    "x = np.arange(0,10,0.1)\n",
    "y = np.sin(x)\n",
    "plt.plot(x,y)"
   ]
  },
  {
   "cell_type": "code",
   "execution_count": 42,
   "metadata": {},
   "outputs": [
    {
     "data": {
      "text/plain": [
       "array([ 0.,  1.,  2.,  3.,  4.,  5.,  6.,  7.,  8.,  9., 10.])"
      ]
     },
     "execution_count": 42,
     "metadata": {},
     "output_type": "execute_result"
    },
    {
     "data": {
      "image/png": "[encoded data removed]",
      "text/plain": [
       "<Figure size 432x288 with 1 Axes>"
      ]
     },
     "metadata": {},
     "output_type": "display_data"
    }
   ],
   "source": [
    "\n",
    "import numpy as np\n",
    "import matplotlib.pyplot as plt\n",
    "a = np.random.choice(np.linspace(0,10,10),100)\n",
    "plt.hist(a,bins=np.linspace(0,10,11))\n",
    "np.linspace(0,10,11)"
   ]
  },
  {
   "cell_type": "code",
   "execution_count": null,
   "metadata": {},
   "outputs": [],
   "source": []
  },
  {
   "cell_type": "code",
   "execution_count": 43,
   "metadata": {},
   "outputs": [
    {
     "data": {
      "text/plain": [
       "(array([0.09, 0.14, 0.07, 0.14, 0.05, 0.1 , 0.1 , 0.12, 0.08, 0.11]),\n",
       " array([ 0,  1,  2,  3,  4,  5,  6,  7,  8,  9, 10]),\n",
       " <BarContainer object of 10 artists>)"
      ]
     },
     "execution_count": 43,
     "metadata": {},
     "output_type": "execute_result"
    },
    {
     "data": {
      "image/png": "[encoded data removed]",
      "text/plain": [
       "<Figure size 432x288 with 1 Axes>"
      ]
     },
     "metadata": {},
     "output_type": "display_data"
    }
   ],
   "source": [
    "plt.hist(a,bins=np.arange(0,11,1),density=True)"
   ]
  },
  {
   "cell_type": "code",
   "execution_count": 310,
   "metadata": {},
   "outputs": [
    {
     "data": {
      "text/plain": [
       "(array([0.248, 0.   , 0.178, 0.   , 0.178, 0.   , 0.196, 0.   , 0.202,\n",
       "        0.   , 0.216, 0.   , 0.224, 0.   , 0.198, 0.   , 0.178, 0.   ,\n",
       "        0.182, 0.   , 0.   ]),\n",
       " array([ 0. ,  0.5,  1. ,  1.5,  2. ,  2.5,  3. ,  3.5,  4. ,  4.5,  5. ,\n",
       "         5.5,  6. ,  6.5,  7. ,  7.5,  8. ,  8.5,  9. ,  9.5, 10. , 10.5]),\n",
       " <BarContainer object of 21 artists>)"
      ]
     },
     "execution_count": 310,
     "metadata": {},
     "output_type": "execute_result"
    },
    {
     "data": {
      "image/png": "[encoded data removed]",
      "text/plain": [
       "<Figure size 432x288 with 1 Axes>"
      ]
     },
     "metadata": {},
     "output_type": "display_data"
    }
   ],
   "source": [
    "#  Use Bins 1/2 wide - What does plot meean? \n",
    "plt.hist(a,bins=np.arange(0,11,0.5),density=True)"
   ]
  },
  {
   "cell_type": "code",
   "execution_count": null,
   "metadata": {},
   "outputs": [],
   "source": []
  },
  {
   "cell_type": "code",
   "execution_count": 40,
   "metadata": {},
   "outputs": [
    {
     "data": {
      "text/plain": [
       "array([0.38418225, 0.78578502, 0.57821581, 0.41169182, 0.67819651,\n",
       "       0.42215723, 0.74944048, 0.25488629, 0.47888335, 0.95712701])"
      ]
     },
     "execution_count": 40,
     "metadata": {},
     "output_type": "execute_result"
    }
   ],
   "source": [
    "# Data as sampling from an unseen population\n",
    "# Choose at random from 1 through 10 \n",
    "import numpy as np\n",
    "import matplotlib.pyplot as plt\n",
    "a = np.random.choice(np.arange(0,10),100)\n",
    "a = np.random.random(100)*10.0      # random.random produces numbers 0-1 \n",
    "\n",
    "b = np.random.random(10)\n",
    "b"
   ]
  },
  {
   "cell_type": "code",
   "execution_count": 54,
   "metadata": {},
   "outputs": [
    {
     "data": {
      "text/plain": [
       "0.0"
      ]
     },
     "execution_count": 54,
     "metadata": {},
     "output_type": "execute_result"
    }
   ],
   "source": [
    "# what is the mean of the following \n",
    "a = np.array([9, 2, 9, 6, 4, 8, 7, 5, 3, 7])\n",
    "a.mean()\n",
    "b = a - a.mean()\n",
    "variance = "
   ]
  },
  {
   "cell_type": "markdown",
   "metadata": {},
   "source": [
    "# Normal Distribution \n",
    "\n",
    "$\n",
    "\\text{the normal distribution is given by} \\\\\n",
    "$\n",
    "$$\n",
    "f(z)=\\frac{1}{\\sqrt{2 \\pi}}e^{-z^2/2}  \n",
    "$$\n",
    "$\n",
    "\\text{This can be rewritten in term of the mean and variance} \\\\\n",
    "$\n",
    "$$\n",
    "f(x)=\\frac{1}{\\sigma \\sqrt{2 \\pi}}e^{-(x- \\mu)^2/2 \\sigma^2}\n",
    "$$\n",
    "The random variable $X$ described by the PDF is a normal variable that follows a normal distribution with mean $\\mu$ and variance $\\sigma^2$.\n",
    "\n",
    "$\n",
    "\\text{Normal distribution notation is} \\\\\n",
    "$\n",
    "$$\n",
    "X \\sim N(\\mu,\\sigma^2) \\\\\n",
    "$$\n",
    "\n",
    "The total area under the PDF curve equals 1."
   ]
  },
  {
   "cell_type": "code",
   "execution_count": 73,
   "metadata": {},
   "outputs": [],
   "source": [
    "# IN CLASS  - use the above formula to plot the normal distribution over x = -4 to 4\n",
    "# takee mean = 0, and sigma = 1\n",
    "x = np.linspace(-4,4,100)\n"
   ]
  },
  {
   "cell_type": "code",
   "execution_count": 74,
   "metadata": {},
   "outputs": [],
   "source": [
    "# Something to think about - What is the area under the curve between say -4 to 4\n"
   ]
  },
  {
   "cell_type": "code",
   "execution_count": 88,
   "metadata": {},
   "outputs": [
    {
     "data": {
      "text/plain": [
       "(array([0.04166667, 0.08333333, 0.10416667, 0.13541667, 0.20833333,\n",
       "        0.1875    , 0.15625   , 0.07291667, 0.        , 0.01041667]),\n",
       " array([ 5,  6,  7,  8,  9, 10, 11, 12, 13, 14, 15]),\n",
       " <BarContainer object of 10 artists>)"
      ]
     },
     "execution_count": 88,
     "metadata": {},
     "output_type": "execute_result"
    },
    {
     "data": {
      "image/png": "[encoded data removed]",
      "text/plain": [
       "<Figure size 432x288 with 1 Axes>"
      ]
     },
     "metadata": {},
     "output_type": "display_data"
    }
   ],
   "source": [
    "# Normal Data \n",
    "\n",
    "a = np.random.normal(10,2,100)\n",
    "plt.hist(a,bins=np.arange(5,16,1),density=True)\n",
    "#plt.scatter(np.arange(0,10),a)\n"
   ]
  },
  {
   "cell_type": "code",
   "execution_count": 89,
   "metadata": {},
   "outputs": [
    {
     "data": {
      "text/plain": [
       "(array([0.02083333, 0.0625    , 0.04166667, 0.125     , 0.08333333,\n",
       "        0.125     , 0.14583333, 0.125     , 0.1875    , 0.22916667,\n",
       "        0.16666667, 0.20833333, 0.14583333, 0.16666667, 0.08333333,\n",
       "        0.0625    , 0.        , 0.        , 0.        , 0.02083333,\n",
       "        0.        ]),\n",
       " array([ 5. ,  5.5,  6. ,  6.5,  7. ,  7.5,  8. ,  8.5,  9. ,  9.5, 10. ,\n",
       "        10.5, 11. , 11.5, 12. , 12.5, 13. , 13.5, 14. , 14.5, 15. , 15.5]),\n",
       " <BarContainer object of 21 artists>)"
      ]
     },
     "execution_count": 89,
     "metadata": {},
     "output_type": "execute_result"
    },
    {
     "data": {
      "image/png": "[encoded data removed]",
      "text/plain": [
       "<Figure size 432x288 with 1 Axes>"
      ]
     },
     "metadata": {},
     "output_type": "display_data"
    }
   ],
   "source": [
    "plt.hist(a,bins=np.arange(5,16,0.5), density=True)"
   ]
  },
  {
   "cell_type": "code",
   "execution_count": 90,
   "metadata": {},
   "outputs": [
    {
     "data": {
      "text/plain": [
       "(array([ 4.,  8., 10., 13., 20., 18., 15.,  7.,  0.,  1.]),\n",
       " array([ 5,  6,  7,  8,  9, 10, 11, 12, 13, 14, 15]),\n",
       " <BarContainer object of 10 artists>)"
      ]
     },
     "execution_count": 90,
     "metadata": {},
     "output_type": "execute_result"
    },
    {
     "data": {
      "image/png": "[encoded data removed]",
      "text/plain": [
       "<Figure size 432x288 with 1 Axes>"
      ]
     },
     "metadata": {},
     "output_type": "display_data"
    }
   ],
   "source": [
    "plt.hist(a,bins=np.arange(5,16,1))"
   ]
  },
  {
   "cell_type": "code",
   "execution_count": 95,
   "metadata": {},
   "outputs": [
    {
     "data": {
      "text/plain": [
       "(array([0.0625836 , 0.0730142 , 0.0834448 , 0.21904261, 0.13559781,\n",
       "        0.19818141, 0.14602841, 0.0834448 , 0.0312918 , 0.0104306 ]),\n",
       " array([-4.46785731, -3.50913974, -2.55042217, -1.59170461, -0.63298704,\n",
       "         0.32573053,  1.28444809,  2.24316566,  3.20188323,  4.1606008 ,\n",
       "         5.11931836]),\n",
       " <BarContainer object of 10 artists>)"
      ]
     },
     "execution_count": 95,
     "metadata": {},
     "output_type": "execute_result"
    },
    {
     "data": {
      "image/png": "[encoded data removed]",
      "text/plain": [
       "<Figure size 432x288 with 1 Axes>"
      ]
     },
     "metadata": {},
     "output_type": "display_data"
    }
   ],
   "source": [
    "import numpy as np\n",
    "import matplotlib.pyplot as plt\n",
    "a = np.random.normal(0,2,100)  # normal takes mean and SD as args\n",
    "plt.hist(a, density = True)\n",
    "\n"
   ]
  },
  {
   "cell_type": "markdown",
   "metadata": {},
   "source": [
    "## Mean and Variance\n",
    "\n",
    "$$\n",
    "\\mu = \\frac{\\sum(x)}{N}\n",
    "$$\n",
    "$$\n",
    "\\sigma^{2} =\\sum{\\frac{(x - \\mu)^{2}}{N} }\n",
    "$$\n"
   ]
  },
  {
   "cell_type": "code",
   "execution_count": 105,
   "metadata": {},
   "outputs": [
    {
     "name": "stdout",
     "output_type": "stream",
     "text": [
      "COMPLETE THIS\n",
      "mean= None\n",
      "Variance = False\n"
     ]
    }
   ],
   "source": [
    "# IN CLASS - Generate a Population and calculate its mean and variance\n",
    "import matplotlib.pyplot as plt\n",
    "Npoints = 10\n",
    "p = np.random.normal(0,10,Npoints)\n",
    "\n",
    "def myMean(sample):\n",
    "    print('COMPLETE THIS')\n",
    "pmean = myMean(p)\n",
    "print(f'mean= {pmean}')\n",
    "\n",
    "def myVar(sample,mean):\n",
    "    print('COMPLETE THIS')\n",
    "    \n",
    "print(f'Variance = {False}')\n"
   ]
  },
  {
   "cell_type": "code",
   "execution_count": null,
   "metadata": {},
   "outputs": [],
   "source": [
    "# How would you check that your functions are working ?"
   ]
  },
  {
   "cell_type": "code",
   "execution_count": 107,
   "metadata": {},
   "outputs": [
    {
     "data": {
      "image/png": "[encoded data removed]",
      "text/plain": [
       "<Figure size 432x288 with 1 Axes>"
      ]
     },
     "metadata": {},
     "output_type": "display_data"
    }
   ],
   "source": [
    "# Use this plotting to draw a normal distribution\n",
    "\n",
    "import numpy as np\n",
    "import matplotlib.pyplot as plt\n",
    "\n",
    "x= np.arange(34,40,0.01)\n",
    "y = np.random.normal(x)\n",
    "\n",
    "# Plot it\n",
    "plt.style.use('ggplot')\n",
    "fig, ax = plt.subplots()\n",
    "lines = ax.plot(x, norm.pdf(x,loc=37,scale=1))\n",
    "ax.set_ylim(0,0.45) # range\n",
    "ax.set_xlabel('x',fontsize=20) # set x label\n",
    "ax.set_ylabel('pdf(x)',fontsize=20,rotation=90) # set y label\n",
    "ax.xaxis.set_label_coords(0.55, -0.05) # x label coordinate\n",
    "ax.yaxis.set_label_coords(-0.1, 0.5) # y label coordinate\n",
    "px=np.arange(36,37,0.1)\n",
    "plt.fill_between(px,norm.pdf(px,loc=37,scale=1),color='r',alpha=0.5)\n",
    "plt.show()\n",
    "\n",
    "\n",
    "\n",
    "\n",
    "\n"
   ]
  },
  {
   "cell_type": "markdown",
   "metadata": {},
   "source": [
    "### Numpy 2D Arrays\n"
   ]
  },
  {
   "cell_type": "code",
   "execution_count": null,
   "metadata": {},
   "outputs": [],
   "source": [
    "## Multi-Dimensional Arrays\n",
    "<img src='multiArray.png' width = 500>"
   ]
  },
  {
   "cell_type": "code",
   "execution_count": 146,
   "metadata": {},
   "outputs": [
    {
     "data": {
      "text/plain": [
       "array([[0, 1, 2],\n",
       "       [3, 4, 5]])"
      ]
     },
     "execution_count": 146,
     "metadata": {},
     "output_type": "execute_result"
    }
   ],
   "source": [
    "import numpy as np\n",
    "a = np.arange(0,9)\n",
    "z = a.reshape(3,3)\n",
    "y = z[0:2,0:2]\n",
    "q = z[0:2][0:2]   # This is legal but DO NOT USE IT  - can you tell me why\n",
    "q"
   ]
  },
  {
   "cell_type": "code",
   "execution_count": 121,
   "metadata": {},
   "outputs": [
    {
     "data": {
      "text/plain": [
       "numpy.ndarray"
      ]
     },
     "execution_count": 121,
     "metadata": {},
     "output_type": "execute_result"
    }
   ],
   "source": [
    "# Create Numpy 2_D Arrays - Remember [1,2,3] is different to np.array([1,2,3])\n",
    "a = np.array([0,1,2])\n",
    "b = np.array([3,4,5])\n",
    "c = np.array([6,7,8])\n",
    "z = np.array([a, \n",
    "     b, \n",
    "     c])\n",
    "type(z)\n",
    "\n"
   ]
  },
  {
   "cell_type": "code",
   "execution_count": 119,
   "metadata": {},
   "outputs": [
    {
     "data": {
      "text/plain": [
       "array([[0, 1, 2],\n",
       "       [3, 4, 5],\n",
       "       [6, 7, 8]])"
      ]
     },
     "execution_count": 119,
     "metadata": {},
     "output_type": "execute_result"
    }
   ],
   "source": [
    "a = np.arange(0,9)\n",
    "z = a.reshape(3,3)\n",
    "z\n"
   ]
  },
  {
   "cell_type": "code",
   "execution_count": 61,
   "metadata": {},
   "outputs": [
    {
     "data": {
      "text/plain": [
       "8"
      ]
     },
     "execution_count": 61,
     "metadata": {},
     "output_type": "execute_result"
    }
   ],
   "source": [
    "z[2,2]"
   ]
  },
  {
   "cell_type": "code",
   "execution_count": 64,
   "metadata": {},
   "outputs": [
    {
     "data": {
      "text/plain": [
       "array([[0, 2],\n",
       "       [6, 8]])"
      ]
     },
     "execution_count": 64,
     "metadata": {},
     "output_type": "execute_result"
    }
   ],
   "source": [
    "z[0:3:2,0:3:2]"
   ]
  },
  {
   "cell_type": "code",
   "execution_count": null,
   "metadata": {},
   "outputs": [],
   "source": []
  },
  {
   "cell_type": "code",
   "execution_count": 37,
   "metadata": {},
   "outputs": [],
   "source": [
    "## Exercise - Produce a 8x8 checkerboard of 1s and 0s\n",
    "### Code it so you could also produce a 20x20 checkerboard later\n",
    "\n",
    "\n"
   ]
  },
  {
   "cell_type": "code",
   "execution_count": 35,
   "metadata": {},
   "outputs": [
    {
     "name": "stdout",
     "output_type": "stream",
     "text": [
      "[[1, 1, 1], [2, 2, 2], [3, 3, 3]]\n"
     ]
    },
    {
     "data": {
      "text/plain": [
       "<AxesSubplot:>"
      ]
     },
     "execution_count": 35,
     "metadata": {},
     "output_type": "execute_result"
    },
    {
     "data": {
      "image/png": "[encoded data removed]",
      "text/plain": [
       "<Figure size 432x288 with 1 Axes>"
      ]
     },
     "metadata": {},
     "output_type": "display_data"
    }
   ],
   "source": [
    "import numpy as np\n",
    "import seaborn as sns\n",
    "from matplotlib.colors import ListedColormap as lc\n",
    "Z = [[1,1,1],[2,2,2],[3,3,3]]\n",
    "print(Z)\n",
    "sns.heatmap(Z, annot=True,linewidths=5,cbar=False)\n",
    "import seaborn as sns\n",
    "sns.heatmap(Z, annot=True,linewidths=5,cbar=False)\n",
    "\n",
    "\n"
   ]
  },
  {
   "cell_type": "markdown",
   "metadata": {},
   "source": [
    "### Your solution should look like this\n",
    "<img src='checker8.png' width ='400'>"
   ]
  },
  {
   "cell_type": "code",
   "execution_count": null,
   "metadata": {},
   "outputs": [],
   "source": [
    "# Fancy Plotting\n",
    "from matplotlib import collections as matcoll\n",
    "Npoints = 20\n",
    "x = np.arange(0,Npoints)\n",
    "y = np.random.normal(loc=10, scale=2, size=Npoints )\n",
    "lines = []\n",
    "for i in range(Npoints):\n",
    "    pair=[(x[i],0), (x[i], y[i])]\n",
    "    lines.append(pair)\n",
    "linecoll = matcoll.LineCollection(lines)\n",
    "fig, ax = plt.subplots()\n",
    "ax.add_collection(linecoll)\n",
    "\n",
    "plt.scatter(x,y, marker='o', color='blue')\n",
    "plt.xticks(x)\n",
    "plt.ylim(0,40)\n",
    "plt.show()\n",
    "ylim=(0,10)"
   ]
  },
  {
   "cell_type": "code",
   "execution_count": 96,
   "metadata": {},
   "outputs": [
    {
     "data": {
      "image/png": "[encoded data removed]",
      "text/plain": [
       "<Figure size 432x288 with 1 Axes>"
      ]
     },
     "metadata": {},
     "output_type": "display_data"
    }
   ],
   "source": [
    "# More Fancy plotting using other libraries\n",
    "\n",
    "from mpl_toolkits.mplot3d import Axes3D\n",
    "import matplotlib.pyplot as plt\n",
    "import numpy as np\n",
    "\n",
    "fig = plt.figure()\n",
    "ax = fig.add_subplot(111,projection='3d')\n",
    "for c, z in zip(['r', 'g', 'b', 'y'], [30, 20, 10, 0]):\n",
    "    xs = np.arange(20)\n",
    "    ys = np.random.rand(20)\n",
    "\n",
    "    # You can provide either a single color or an array. To demonstrate this,\n",
    "    # the first bar of each set will be colored cyan.\n",
    "    cs = [c] * len(xs)\n",
    "    cs[0] = 'c'\n",
    "    ax.bar(xs, ys, zs=z, zdir='y', color=cs, alpha=0.8)\n",
    "\n",
    "ax.set_xlabel('X')\n",
    "ax.set_ylabel('Y')\n",
    "ax.set_zlabel('Z')\n",
    "\n",
    "plt.show()"
   ]
  },
  {
   "cell_type": "code",
   "execution_count": null,
   "metadata": {},
   "outputs": [],
   "source": []
  }
 ],
 "metadata": {
  "kernelspec": {
   "display_name": "Python 3",
   "language": "python",
   "name": "python3"
  },
  "language_info": {
   "codemirror_mode": {
    "name": "ipython",
    "version": 3
   },
   "file_extension": ".py",
   "mimetype": "text/x-python",
   "name": "python",
   "nbconvert_exporter": "python",
   "pygments_lexer": "ipython3",
   "version": "3.7.4"
  },
  "toc": {
   "base_numbering": 1,
   "nav_menu": {},
   "number_sections": true,
   "sideBar": true,
   "skip_h1_title": false,
   "title_cell": "Table of Contents",
   "title_sidebar": "Contents",
   "toc_cell": false,
   "toc_position": {},
   "toc_section_display": true,
   "toc_window_display": false
  }
 },
 "nbformat": 4,
 "nbformat_minor": 4
}

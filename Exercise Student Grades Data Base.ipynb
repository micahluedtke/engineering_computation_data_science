{
 "cells": [
  {
   "cell_type": "markdown",
   "metadata": {},
   "source": [
    "# Exercise - Complete so that all Cells Work"
   ]
  },
  {
   "cell_type": "markdown",
   "metadata": {},
   "source": [
    "## Dictionary comprehensions review"
   ]
  },
  {
   "cell_type": "code",
   "execution_count": 2,
   "metadata": {
    "ExecuteTime": {
     "end_time": "2021-02-24T14:42:09.503725Z",
     "start_time": "2021-02-24T14:42:09.422519Z"
    }
   },
   "outputs": [
    {
     "data": {
      "text/plain": [
       "[3, 6, 9, 12]"
      ]
     },
     "execution_count": 2,
     "metadata": {},
     "output_type": "execute_result"
    }
   ],
   "source": [
    "a = [1,2,3,4]\n",
    "b = []\n",
    "for item in a:\n",
    "    b.append(item * 3)\n",
    "\n",
    "b"
   ]
  },
  {
   "cell_type": "code",
   "execution_count": 3,
   "metadata": {
    "ExecuteTime": {
     "end_time": "2021-02-24T14:42:24.589274Z",
     "start_time": "2021-02-24T14:42:24.489625Z"
    }
   },
   "outputs": [
    {
     "data": {
      "text/plain": [
       "{1: 14}"
      ]
     },
     "execution_count": 3,
     "metadata": {},
     "output_type": "execute_result"
    }
   ],
   "source": [
    "# dictionary comprehensions\n",
    "c = {0:1, 1:2, 2:3}\n",
    "d = {key: value*7  for key,value in c.items() if key == 1}\n",
    "d"
   ]
  },
  {
   "cell_type": "code",
   "execution_count": 9,
   "metadata": {
    "ExecuteTime": {
     "end_time": "2021-02-24T14:54:51.624866Z",
     "start_time": "2021-02-24T14:54:51.571576Z"
    }
   },
   "outputs": [
    {
     "data": {
      "text/plain": [
       "[1, 2, 3]"
      ]
     },
     "execution_count": 9,
     "metadata": {},
     "output_type": "execute_result"
    }
   ],
   "source": [
    "[i for i in c.values()]"
   ]
  },
  {
   "cell_type": "code",
   "execution_count": 6,
   "metadata": {
    "ExecuteTime": {
     "end_time": "2021-02-24T14:45:16.907084Z",
     "start_time": "2021-02-24T14:45:16.844253Z"
    }
   },
   "outputs": [
    {
     "data": {
      "text/plain": [
       "'Micah'"
      ]
     },
     "execution_count": 6,
     "metadata": {},
     "output_type": "execute_result"
    }
   ],
   "source": [
    "e = {\"name\" : \"Micah\", \"age\":27}\n",
    "e['name']"
   ]
  },
  {
   "cell_type": "code",
   "execution_count": 6,
   "metadata": {},
   "outputs": [
    {
     "data": {
      "text/plain": [
       "({0: 3, 1: 6}, [3, 6])"
      ]
     },
     "execution_count": 6,
     "metadata": {},
     "output_type": "execute_result"
    }
   ],
   "source": [
    "# list comprehensions\n",
    "a = [1, 2, 3]\n",
    "r = [item*3  for item in a if item < 3]\n",
    "\n",
    "d = {index: item*3  for index, item in enumerate(a) if item < 3 }\n",
    "d , r"
   ]
  },
  {
   "cell_type": "code",
   "execution_count": 14,
   "metadata": {
    "ExecuteTime": {
     "end_time": "2021-02-24T15:05:15.674407Z",
     "start_time": "2021-02-24T15:05:15.185367Z"
    }
   },
   "outputs": [
    {
     "data": {
      "image/png": "[encoded data removed]",
      "text/plain": [
       "<Figure size 432x288 with 1 Axes>"
      ]
     },
     "metadata": {
      "needs_background": "light"
     },
     "output_type": "display_data"
    }
   ],
   "source": [
    "import matplotlib.pyplot as plt\n",
    "x = [i for i in range(101)]\n",
    "y = []\n",
    "def f(x):\n",
    "    return x * x\n",
    "for item in x:\n",
    "    y.append(f(item))\n",
    "\n",
    "plt.plot(x,y);"
   ]
  },
  {
   "cell_type": "markdown",
   "metadata": {},
   "source": [
    "## Data structures "
   ]
  },
  {
   "cell_type": "code",
   "execution_count": null,
   "metadata": {},
   "outputs": [],
   "source": [
    "### warm up on nested dictionaries"
   ]
  },
  {
   "cell_type": "code",
   "execution_count": 19,
   "metadata": {
    "ExecuteTime": {
     "end_time": "2021-02-24T15:14:08.367659Z",
     "start_time": "2021-02-24T15:14:08.347327Z"
    }
   },
   "outputs": [
    {
     "name": "stdout",
     "output_type": "stream",
     "text": [
      "{1: {'name': 'John', 'age': '27', 'sex': 'Male'}, 2: {'name': 'Marie', 'age': '22', 'sex': 'Female'}, 3: {'name': 'Anna', 'age': '22', 'sex': 'Female'}}\n"
     ]
    }
   ],
   "source": [
    "p1 = {'name': 'John', 'age': '27', 'sex': 'Male'}\n",
    "p2 = {'name': 'Marie', 'age': '22', 'sex': 'Female'}\n",
    "people = {1: {'name': 'John', 'age': '27', 'sex': 'Male'},\n",
    "          2: {'name': 'Marie', 'age': '22', 'sex': 'Female'},\n",
    "          3: {'name': 'Anna', 'age':'22', 'sex': 'Female'}}\n",
    "\n",
    "# person = people[1]\n",
    "# print(person)\n",
    "# person['name'] = 'Fred'\n",
    "print(people)\n"
   ]
  },
  {
   "cell_type": "markdown",
   "metadata": {},
   "source": [
    "###  flat file using unique keys"
   ]
  },
  {
   "cell_type": "code",
   "execution_count": 20,
   "metadata": {
    "ExecuteTime": {
     "end_time": "2021-02-24T15:26:23.434557Z",
     "start_time": "2021-02-24T15:26:23.395357Z"
    }
   },
   "outputs": [],
   "source": [
    "# db is a dictionary of lists named {students: [], psets: [], grades: []}\n",
    "def empty():\n",
    "    return {\"students\": [],\n",
    "            \"psets\": [],\n",
    "            \"grades\": []}\n",
    "# Add a new student to the database.\n",
    "def addStudent(db, student_id, student_name):   # students is a list of \n",
    "    db[\"students\"].append({\"id\": student_id,\n",
    "                           \"name\": student_name})\n",
    "# Add a new pset to the database.\n",
    "def addPset(db, pset_id, pset_total_points):\n",
    "    db[\"psets\"].append({\"id\": pset_id,\n",
    "                        \"points\": pset_total_points})\n",
    "# Record a student's grade on a pset.\n",
    "def addGrade(db, student_id, pset_id, points):\n",
    "    db[\"grades\"].append({\"student\": student_id,\n",
    "                         \"pset\": pset_id,\n",
    "                         \"points\": points})\n",
    "db = empty()"
   ]
  },
  {
   "cell_type": "code",
   "execution_count": 21,
   "metadata": {
    "ExecuteTime": {
     "end_time": "2021-02-24T15:26:25.295020Z",
     "start_time": "2021-02-24T15:26:25.285291Z"
    }
   },
   "outputs": [
    {
     "name": "stdout",
     "output_type": "stream",
     "text": [
      "{'students': [], 'psets': [], 'grades': []}\n"
     ]
    }
   ],
   "source": [
    "print(db)"
   ]
  },
  {
   "cell_type": "code",
   "execution_count": 22,
   "metadata": {
    "ExecuteTime": {
     "end_time": "2021-02-24T15:28:26.829896Z",
     "start_time": "2021-02-24T15:28:26.807510Z"
    }
   },
   "outputs": [
    {
     "name": "stdout",
     "output_type": "stream",
     "text": [
      "{'students': [{'id': 1, 'name': 'Alice'}, {'id': 2, 'name': 'Bob'}, {'id': 3, 'name': 'Charlie'}], 'psets': [{'id': 1, 'points': 10}, {'id': 2, 'points': 20}, {'id': 3, 'points': 30}], 'grades': [{'student': 1, 'pset': 1, 'points': 10}, {'student': 1, 'pset': 2, 'points': 18}, {'student': 1, 'pset': 3, 'points': 25}, {'student': 2, 'pset': 3, 'points': 15}, {'student': 3, 'pset': 3, 'points': 10}]}\n"
     ]
    }
   ],
   "source": [
    "# add data to db\n",
    "addStudent(db, 1, \"Alice\")\n",
    "addStudent(db, 2, \"Bob\")\n",
    "addStudent(db, 3, \"Charlie\")\n",
    "\n",
    "addPset(db, 1, 10)\n",
    "addPset(db, 2, 20)\n",
    "addPset(db, 3, 30)\n",
    "\n",
    "addGrade(db, 1, 1, 10)\n",
    "addGrade(db, 1, 2, 18)\n",
    "addGrade(db, 1, 3, 25)\n",
    "addGrade(db, 2, 3, 15)\n",
    "addGrade(db, 3, 3, 10)\n",
    "print(db)"
   ]
  },
  {
   "cell_type": "code",
   "execution_count": 23,
   "metadata": {
    "ExecuteTime": {
     "end_time": "2021-02-24T15:29:46.368339Z",
     "start_time": "2021-02-24T15:29:46.298534Z"
    }
   },
   "outputs": [
    {
     "name": "stdout",
     "output_type": "stream",
     "text": [
      "{'grade': 15}\n"
     ]
    }
   ],
   "source": [
    "mydb = {'students': [{'id': 1, 'name': 'Alice'}, \n",
    "              {'id': 2, 'name': 'Bob'}, \n",
    "              {'id': 3, 'name': 'Charlie'}], \n",
    " 'psets': [{'id': 1, 'points': 10}, \n",
    "           {'id': 2, 'points': 20}, \n",
    "           {'id': 3, 'points': 30}], \n",
    " 'grades': [{'student': 1, 'pset': 1, 'points': 10}, \n",
    "            {'student': 1, 'pset': 2, 'points': 18}, \n",
    "            {'student': 1, 'pset': 3, 'points': 25}, \n",
    "            {'student': 2, 'pset': 3, 'points': 15}, \n",
    "            {'student': 3, 'pset': 3, 'points': 10}]}\n",
    "\n",
    "# get a student's grade for a given pset\n",
    "def getGrade(student_id, pset_id):\n",
    "    return {\"grade\": row[\"points\"] for row in mydb[\"grades\"] \n",
    "            if row[\"student\"] == student_id and row[\"pset\"] == pset_id}\n",
    "\n",
    "print(getGrade(2, 3))"
   ]
  },
  {
   "cell_type": "markdown",
   "metadata": {},
   "source": [
    "### Look up a student name by Id and print\n",
    "### Notice the use of comprehension"
   ]
  },
  {
   "cell_type": "code",
   "execution_count": 24,
   "metadata": {
    "ExecuteTime": {
     "end_time": "2021-02-24T15:35:35.481918Z",
     "start_time": "2021-02-24T15:35:35.466976Z"
    }
   },
   "outputs": [
    {
     "name": "stdout",
     "output_type": "stream",
     "text": [
      "{'name': 'Bob'}\n"
     ]
    }
   ],
   "source": [
    "student_id = 2   # this search is O(N)\n",
    "print({\"name\": s['name'] for s in db['students'] if s[\"id\"] == student_id})"
   ]
  },
  {
   "cell_type": "code",
   "execution_count": 25,
   "metadata": {
    "ExecuteTime": {
     "end_time": "2021-02-24T15:37:27.819223Z",
     "start_time": "2021-02-24T15:37:27.760315Z"
    }
   },
   "outputs": [
    {
     "data": {
      "text/plain": [
       "[{'student': 1, 'pset': 1, 'points': 10},\n",
       " {'student': 1, 'pset': 2, 'points': 18},\n",
       " {'student': 1, 'pset': 3, 'points': 25},\n",
       " {'student': 2, 'pset': 3, 'points': 15},\n",
       " {'student': 3, 'pset': 3, 'points': 10}]"
      ]
     },
     "execution_count": 25,
     "metadata": {},
     "output_type": "execute_result"
    }
   ],
   "source": [
    "db['grades']"
   ]
  },
  {
   "cell_type": "code",
   "execution_count": 39,
   "metadata": {
    "ExecuteTime": {
     "end_time": "2021-02-24T15:49:58.665463Z",
     "start_time": "2021-02-24T15:49:58.642397Z"
    }
   },
   "outputs": [
    {
     "data": {
      "text/plain": [
       "[{'id': 1, 'name': 'Alice'},\n",
       " {'id': 2, 'name': 'Bob'},\n",
       " {'id': 3, 'name': 'Charlie'}]"
      ]
     },
     "execution_count": 39,
     "metadata": {},
     "output_type": "execute_result"
    }
   ],
   "source": [
    "db['students']"
   ]
  },
  {
   "cell_type": "code",
   "execution_count": 42,
   "metadata": {
    "ExecuteTime": {
     "end_time": "2021-02-24T15:54:41.995279Z",
     "start_time": "2021-02-24T15:54:41.974603Z"
    }
   },
   "outputs": [
    {
     "name": "stdout",
     "output_type": "stream",
     "text": [
      "{'Alice': 25, 'Bob': 15, 'Charlie': 10}\n"
     ]
    }
   ],
   "source": [
    "# Return all grades on a pset, as a dictionary from student names to grades.\n",
    "# Notice that we're making it interesting by working with student names instead of IDs.\n",
    "# The grades table doesn't include student names directly!\n",
    "def gradesOnPset(db, pset_id):\n",
    "    return {student[\"name\"]: grade[\"points\"]\n",
    "            for grade in db[\"grades\"] if grade['pset'] == pset_id  \n",
    "            for student in db[\"students\"] if student['id'] == grade['student']\n",
    "            }\n",
    "print(gradesOnPset(db,3))"
   ]
  },
  {
   "cell_type": "markdown",
   "metadata": {},
   "source": [
    "### Micah start here "
   ]
  },
  {
   "cell_type": "code",
   "execution_count": 63,
   "metadata": {
    "ExecuteTime": {
     "end_time": "2021-02-28T17:17:24.893436Z",
     "start_time": "2021-02-28T17:17:24.786159Z"
    }
   },
   "outputs": [
    {
     "name": "stdout",
     "output_type": "stream",
     "text": [
      "[{'id': 1, 'name': 'Alice', 'grade': 91.1}, {'id': 2, 'name': 'Bob', 'grade': 16.7}, {'id': 3, 'name': 'Charlie', 'grade': 11.1}]\n"
     ]
    }
   ],
   "source": [
    "# A small wrapper to give us a succinct way to express a lookup of a single value,\n",
    "# comprehension-style! \n",
    "def one(gen):                   # this expects a generator, gets the next one or returns None\n",
    "    return next(gen, None)\n",
    "# To start with, let's implement a version of studentGrades that:\n",
    "# (1) includes zeroes for missing grades,\n",
    "# (2) divides by the point total for each pset, and\n",
    "# (3) returns a list of scores.\n",
    "# One more helper function is useful first.\n",
    "# Which grade did this student get on this pset?  (Returns None if no grade has been\n",
    "# recorded.)\n",
    "\n",
    "def gradeOn(db, student_id, pset_id):\n",
    "    temp = (grade[\"points\"] for grade in db[\"grades\"] if grade[\"student\"] == student_id if grade[\"pset\"] == pset_id)\n",
    "#     print(\"string grade on\",temp)\n",
    "#     return one(temp)\n",
    "    return one(grade[\"points\"]\n",
    "               for grade in db[\"grades\"]\n",
    "               if grade[\"student\"] == student_id\n",
    "               if grade[\"pset\"] == pset_id)\n",
    "\n",
    "def gradeOnWeighted(db, student_id, pset):\n",
    "    grade = gradeOn(db, student_id, pset[\"id\"])\n",
    "#     print(\"This is the grade\", grade)\n",
    "    if grade == None:\n",
    "        return 0\n",
    "    else:\n",
    "        return grade * 1.0 / pset[\"points\"]\n",
    "        \n",
    "def studentGradesWeighted(db, student_id):\n",
    "    return [gradeOnWeighted(db, student_id, pset) for pset in db[\"psets\"]]\n",
    "\n",
    "# Next, computing the final grade of a student.\n",
    "def finalGradeOf(db, student_id):\n",
    "    grades = studentGradesWeighted(db, student_id)\n",
    "    return round(sum(grades) / len(grades) * 100, 1)\n",
    "\n",
    "# Finally, computing for all students.\n",
    "def finalGrades(db):\n",
    "    return [{\"id\": student[\"id\"],\n",
    "             \"name\": student[\"name\"],\n",
    "             \"grade\": finalGradeOf(db, student[\"id\"])} \n",
    "            for student in db[\"students\"]]\n",
    "\n",
    "print(finalGrades(db))"
   ]
  },
  {
   "cell_type": "markdown",
   "metadata": {},
   "source": [
    "# Using Dictionaries"
   ]
  },
  {
   "cell_type": "code",
   "execution_count": 64,
   "metadata": {
    "ExecuteTime": {
     "end_time": "2021-02-28T17:19:12.767728Z",
     "start_time": "2021-02-28T17:19:12.737567Z"
    }
   },
   "outputs": [
    {
     "data": {
      "text/plain": [
       "{'students': {}, 'psets': {}, 'grades': {}}"
      ]
     },
     "execution_count": 64,
     "metadata": {},
     "output_type": "execute_result"
    }
   ],
   "source": [
    "# Grades are less obvious.  There are at least three reasonable dictionary choices:\n",
    "# lets use the one below where we go through two dictionaries using first student_id then pset_id as the keys\n",
    "#  [Student ID] |-> [Pset ID] |-> [Points]\n",
    "\n",
    "\n",
    "def empty():\n",
    "    return {\"students\": {},    # NOTE USE OF DICTIONARY\n",
    "            \"psets\": {},\n",
    "            \"grades\": {}}\n",
    "db = empty()\n",
    "def addStudent(db, student_id, student_name):\n",
    "    db['students'][student_id] = student_name\n",
    "   \n",
    "def addPset(db, pset_id, pset_total_points): #Identical to addPset function defined earlier\n",
    "    db['psets'][pset_id] = pset_total_points\n",
    "    \n",
    "def addGrade(db, student_id, pset_id, points):\n",
    "    if student_id not in db['grades']:\n",
    "        db['grades'][student_id] = {}\n",
    "    db['grades'][student_id][pset_id] = points\n",
    "\n",
    "db = empty()\n",
    "\n",
    "db"
   ]
  },
  {
   "cell_type": "code",
   "execution_count": 65,
   "metadata": {
    "ExecuteTime": {
     "end_time": "2021-02-28T17:19:22.173078Z",
     "start_time": "2021-02-28T17:19:22.155247Z"
    }
   },
   "outputs": [
    {
     "name": "stdout",
     "output_type": "stream",
     "text": [
      "{'students': {1: 'Alice', 2: 'Bob', 3: 'Charlie'}, 'psets': {1: 100, 2: 120, 3: 130}, 'grades': {1: {1: 98, 2: 108, 3: 125}, 2: {3: 115}, 3: {3: 110}}}\n"
     ]
    }
   ],
   "source": [
    "addStudent(db, 1, \"Alice\")\n",
    "addStudent(db, 2, \"Bob\")\n",
    "addStudent(db, 3, \"Charlie\")\n",
    "#          pset_id, max_score\n",
    "addPset(db, 1, 100)\n",
    "addPset(db, 2, 120)\n",
    "addPset(db, 3, 130)\n",
    "#          student_id, pset_id, value\n",
    "addGrade(db, 1, 1, 98)\n",
    "addGrade(db, 1, 2, 108)\n",
    "addGrade(db, 1, 3, 125)\n",
    "addGrade(db, 2, 3, 115)\n",
    "addGrade(db, 3, 3, 110)\n",
    "\n",
    "print(db)"
   ]
  },
  {
   "cell_type": "code",
   "execution_count": 80,
   "metadata": {
    "ExecuteTime": {
     "end_time": "2021-02-28T18:12:32.434599Z",
     "start_time": "2021-02-28T18:12:32.418407Z"
    }
   },
   "outputs": [
    {
     "name": "stdout",
     "output_type": "stream",
     "text": [
      "None\n"
     ]
    }
   ],
   "source": [
    "def get(dict, key):\n",
    "    if key in dict:\n",
    "        return dict[key]\n",
    "    else:\n",
    "        return None\n",
    "    \n",
    "def studentGrades(db, student_id):\n",
    "    return get(db['grades'], student_id)\n",
    "\n",
    "# def studentGradeOn(db, student_id, pset_id):\n",
    "def studentGradeOn(db, student_id, pset_id):\n",
    "    try: \n",
    "        return db['grades'][student_id][pset_id] \n",
    "    except KeyError:\n",
    "        return None\n",
    "\n",
    "print(studentGrades(db, 1))\n",
    "print(studentGradeOn(db, 2, 2))"
   ]
  },
  {
   "cell_type": "markdown",
   "metadata": {},
   "source": [
    "# Exercise"
   ]
  },
  {
   "cell_type": "code",
   "execution_count": 82,
   "metadata": {
    "ExecuteTime": {
     "end_time": "2021-02-28T18:15:23.443031Z",
     "start_time": "2021-02-28T18:15:23.438320Z"
    }
   },
   "outputs": [],
   "source": [
    "db = {'students': {1: 'Alice', 2: 'Bob', 3: 'Charlie'},\n",
    " 'psets': {1: 100, 2: 120, 3: 130},\n",
    " 'grades': {1: {1: 98, 2: 108, 3: 125}, 2: {3: 115}, 3: {3: 110}}}"
   ]
  },
  {
   "cell_type": "code",
   "execution_count": 121,
   "metadata": {
    "ExecuteTime": {
     "end_time": "2021-02-28T18:49:11.382832Z",
     "start_time": "2021-02-28T18:49:11.374395Z"
    }
   },
   "outputs": [
    {
     "data": {
      "text/plain": [
       "{1: 100, 2: 120, 3: 130}"
      ]
     },
     "execution_count": 121,
     "metadata": {},
     "output_type": "execute_result"
    }
   ],
   "source": [
    "db['psets']"
   ]
  },
  {
   "cell_type": "code",
   "execution_count": 122,
   "metadata": {
    "ExecuteTime": {
     "end_time": "2021-02-28T18:49:11.842430Z",
     "start_time": "2021-02-28T18:49:11.824995Z"
    }
   },
   "outputs": [
    {
     "name": "stdout",
     "output_type": "stream",
     "text": [
      "{1: 98, 2: 108, 3: 125}\n",
      "[0, 0, 0.85]\n",
      "[{'id': 1, 'name': 'Alice', 'grade': 94.7}, {'id': 2, 'name': 'Bob', 'grade': 29.3}, {'id': 3, 'name': 'Charlie', 'grade': 28.3}]\n"
     ]
    }
   ],
   "source": [
    "# EXERCISE TO BE COMPLETED - Make the following code work with the DB\n",
    "# A helper function that causes a dictionary lookup to return None instead of raising an exception\n",
    "def get(dict, key):\n",
    "    if key in dict:\n",
    "        return dict[key]\n",
    "    else:\n",
    "        return None\n",
    "# Our representation of grades really shines here!\n",
    "def studentGrades(db, student_id):\n",
    "    return get(db[\"grades\"], student_id)\n",
    "\n",
    "# check - get grades of student_id = 1\n",
    "print(studentGrades(db,1))  \n",
    "\n",
    "def studentGradesWeighted(db, student_id):  # COMPLETE THIS\n",
    "    scores = studentGrades(db, student_id) \n",
    "    out_of = db['psets']\n",
    "    grades = []\n",
    "    for i in out_of.keys():\n",
    "        try:\n",
    "            grades.append(round(scores[i]/out_of[i], 2))\n",
    "        except KeyError:\n",
    "            grades.append(0)\n",
    "    return grades # [list of weighted scores]\n",
    "\n",
    "print(studentGradesWeighted(db, 3))\n",
    "\n",
    "       \n",
    "# Next, computing the final grade of a student.\n",
    "def finalGradeOf(db, student_id):\n",
    "    grades = studentGradesWeighted(db, student_id)  # LIST OF GRADES\n",
    "    return round(sum(grades) / len(grades)*100, 1)\n",
    "\n",
    "# Finally, computing for all students.\n",
    "def finalGrades(db):\n",
    "    return [{\"id\": student_id,\"name\": student,\"grade\": finalGradeOf(db, student_id)} \n",
    "            for student_id, student in db[\"students\"].items()]\n",
    "\n",
    "print(finalGrades(db))\n"
   ]
  },
  {
   "cell_type": "code",
   "execution_count": 119,
   "metadata": {
    "ExecuteTime": {
     "end_time": "2021-02-28T18:49:01.182189Z",
     "start_time": "2021-02-28T18:49:01.167183Z"
    }
   },
   "outputs": [],
   "source": [
    "db = {'students': {1: 'Alice', 2: 'Bob', 3: 'Charlie'},\n",
    " 'psets': {1: 100, 2: 120, 3: 130},\n",
    " 'grades': {1: {1: 98, 2: 108, 3: 125}, 2: {3: 115}, 3: {3: 110}}}"
   ]
  },
  {
   "cell_type": "markdown",
   "metadata": {},
   "source": [
    "# Use redundant dictionaries"
   ]
  },
  {
   "cell_type": "code",
   "execution_count": 137,
   "metadata": {
    "ExecuteTime": {
     "end_time": "2021-03-03T14:17:43.908093Z",
     "start_time": "2021-03-03T14:17:43.829466Z"
    }
   },
   "outputs": [
    {
     "name": "stdout",
     "output_type": "stream",
     "text": [
      "{'studentsById': {1: 'Alice', 2: 'Bob', 3: 'Charlie'}, 'studentsByName': {'Alice': 1, 'Bob': 2, 'Charlie': 3}, 'psets': {1: 100, 2: 120, 3: 130}, 'gradesByStudent': {1: {1: 98, 2: 108, 3: 125}, 2: {3: 115}, 3: {3: 110}}, 'gradesByPset': {1: {1: 98}, 2: {1: 108}, 3: {1: 125, 2: 115, 3: 110}}}\n"
     ]
    }
   ],
   "source": [
    "def empty():\n",
    "    return {\"studentsById\": {},\n",
    "            \"studentsByName\": {},\n",
    "            \"psets\": {},\n",
    "            \"gradesByStudent\": {},\n",
    "            \"gradesByPset\": {}}\n",
    "\n",
    "db = empty()\n",
    "def get(dict, key):\n",
    "    if key in dict:\n",
    "        return dict[key]\n",
    "    else:\n",
    "        return None\n",
    "\n",
    "def get_keys(dict, key):\n",
    "    if key in dict:\n",
    "        return key\n",
    "    else:\n",
    "        return None\n",
    "# to add to a nested dictionary. Look at this because its very usefull\n",
    "def add2(dict1, key1, key2, value):\n",
    "    if key1 not in dict1:\n",
    "        dict1[key1] = {}\n",
    "    dict1[key1][key2] = value\n",
    "\n",
    "def addStudent(db, student_id, student_name):\n",
    "    db['studentsById'][student_id] = student_name\n",
    "    db['studentsByName'][student_name] = student_id\n",
    "    \n",
    "def addPset(db, pset_id, pset_total_points):\n",
    "    db[\"psets\"][pset_id] = pset_total_points\n",
    "    \n",
    "def addGrade(db, student_id, pset_id, points):\n",
    "    add2(db['gradesByStudent'],student_id, pset_id, points)\n",
    "    add2(db['gradesByPset'], pset_id, student_id, points)\n",
    "\n",
    "addStudent(db, 1, \"Alice\")\n",
    "addStudent(db, 2, \"Bob\")\n",
    "addStudent(db, 3, \"Charlie\")\n",
    "#          pset_id, max_score\n",
    "addPset(db, 1, 100)\n",
    "addPset(db, 2, 120)\n",
    "addPset(db, 3, 130)\n",
    "#          student_id, pset_id, value\n",
    "addGrade(db, 1, 1, 98)\n",
    "addGrade(db, 1, 2, 108)\n",
    "addGrade(db, 1, 3, 125)\n",
    "addGrade(db, 2, 3, 115)\n",
    "addGrade(db, 3, 3, 110)\n",
    "print(db)  "
   ]
  },
  {
   "cell_type": "code",
   "execution_count": 139,
   "metadata": {
    "ExecuteTime": {
     "end_time": "2021-03-03T14:17:53.606638Z",
     "start_time": "2021-03-03T14:17:53.598078Z"
    }
   },
   "outputs": [
    {
     "name": "stdout",
     "output_type": "stream",
     "text": [
      "{1: 125, 2: 115, 3: 110}\n"
     ]
    }
   ],
   "source": [
    "# get grades on Pset\n",
    "def getGradesOnPset(db, pset_id):\n",
    "    return get(db['gradesByPset'], pset_id)\n",
    "print(getGradesOnPset(db,3))"
   ]
  },
  {
   "cell_type": "code",
   "execution_count": 136,
   "metadata": {
    "ExecuteTime": {
     "end_time": "2021-03-03T14:16:06.510642Z",
     "start_time": "2021-03-03T14:16:06.490382Z"
    }
   },
   "outputs": [
    {
     "name": "stdout",
     "output_type": "stream",
     "text": [
      "(['Alice', 'Bob', 'Charlie'], {1: 125, 2: 115, 3: 110})\n"
     ]
    }
   ],
   "source": [
    "# Exercise calculate from db and return result\n",
    "def gradesOnPset(db, pset_id):\n",
    "    names = [i for i in db['studentsByName'].keys()]\n",
    "    grades = get(db['gradesByPset'], pset_id)\n",
    "#     scores = {}\n",
    "#     scores.keys() = names\n",
    "#     scores.values() = grades\n",
    "    return(names, grades)\n",
    "    # ENTER CODE here to complete the function\n",
    "    \n",
    "    \n",
    "print(gradesOnPset(db,3))\n"
   ]
  },
  {
   "cell_type": "code",
   "execution_count": 8,
   "metadata": {},
   "outputs": [
    {
     "name": "stdout",
     "output_type": "stream",
     "text": [
      "{1: 98, 2: 108, 3: 125}\n"
     ]
    }
   ],
   "source": [
    "def studentGrades(db, student_id):\n",
    "    # ENTER CODE HERE\n",
    "    \n",
    "    \n",
    "print(studentGrades(db,1))"
   ]
  },
  {
   "cell_type": "code",
   "execution_count": null,
   "metadata": {},
   "outputs": [],
   "source": []
  }
 ],
 "metadata": {
  "kernelspec": {
   "display_name": "Python 3",
   "language": "python",
   "name": "python3"
  },
  "language_info": {
   "codemirror_mode": {
    "name": "ipython",
    "version": 3
   },
   "file_extension": ".py",
   "mimetype": "text/x-python",
   "name": "python",
   "nbconvert_exporter": "python",
   "pygments_lexer": "ipython3",
   "version": "3.7.4"
  },
  "toc": {
   "base_numbering": 1,
   "nav_menu": {
    "height": "352px",
    "width": "312px"
   },
   "number_sections": true,
   "sideBar": true,
   "skip_h1_title": false,
   "title_cell": "Table of Contents",
   "title_sidebar": "Contents",
   "toc_cell": false,
   "toc_position": {
    "height": "calc(100% - 180px)",
    "left": "10px",
    "top": "150px",
    "width": "272px"
   },
   "toc_section_display": true,
   "toc_window_display": true
  }
 },
 "nbformat": 4,
 "nbformat_minor": 2
}
